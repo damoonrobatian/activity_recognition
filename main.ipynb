import numpy as np
import pandas as pd

# Human Activity Recognition (AR) based on Smartphone-Collected Data
 
