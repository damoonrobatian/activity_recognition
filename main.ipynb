import numpy as np
import pandas as pd
import matplotlib.pyplot as plt
import seaborn as sns
import warnings
warnings.filterwarnings("ignore")
import os


# Human Activity Recognition (AR) based on Smartphone-Collected Data

root_path = input("Enter the working directory's path:\n")
#%%
os.chdir(root_path)
#%% Load the data
train = pd.read_csv(root_path + "data/train-1.csv")
test = pd.read_csv(root_path + "data/test.csv")

## Get to know the data
 
