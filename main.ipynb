import numpy as np
import pandas as pd
import matplotlib.pyplot as plt
import seaborn as sns
import warnings
warnings.filterwarnings("ignore")
import os


# Human Activity Recognition (AR) based on Smartphone-Collected Data
 
